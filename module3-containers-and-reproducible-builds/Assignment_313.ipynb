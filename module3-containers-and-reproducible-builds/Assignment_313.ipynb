{
  "nbformat": 4,
  "nbformat_minor": 0,
  "metadata": {
    "colab": {
      "name": "Assignment-313.ipynb",
      "provenance": [],
      "authorship_tag": "ABX9TyPFDXpdam/mMqLu5FbFWrw6",
      "include_colab_link": true
    },
    "kernelspec": {
      "name": "python3",
      "display_name": "Python 3"
    }
  },
  "cells": [
    {
      "cell_type": "markdown",
      "metadata": {
        "id": "view-in-github",
        "colab_type": "text"
      },
      "source": [
        "<a href=\"https://colab.research.google.com/github/BrokenShell/DS-Unit-3-Sprint-1-Software-Engineering/blob/master/module3-containers-and-reproducible-builds/Assignment_313.ipynb\" target=\"_parent\"><img src=\"https://colab.research.google.com/assets/colab-badge.svg\" alt=\"Open In Colab\"/></a>"
      ]
    },
    {
      "cell_type": "markdown",
      "metadata": {
        "id": "7TpcuRWgRQLO",
        "colab_type": "text"
      },
      "source": [
        "# Docker Notes\n",
        "\n",
        "## Create Dockerfile\n",
        "```\n",
        "$ nano Dockerfile\n",
        "```\n",
        "\n",
        "#### Example Dockerfile:\n",
        "```\n",
        "FROM python:3\n",
        "\n",
        "ENV PYTHONUNBUFFERED=1\n",
        "\n",
        "RUN apt-get update && \\\n",
        "apt-get upgrade -y && \\\n",
        "apt-get install nano -y && \\\n",
        "pip install Cython && \\\n",
        "pip install Fortuna && \\\n",
        "pip install LambdaData\n",
        "```\n",
        "\n",
        "## Build Docker (Same Dir as Dockerfile)\n",
        "```\n",
        "$ docker build . -t lambdadata\n",
        "```\n",
        "\n",
        "## Run Docker (From Anywhere)\n",
        "First make sure the Docker app is running.\n",
        "```\n",
        "$ docker run -it lambdadata /bin/bash\n",
        "```\n"
      ]
    }
  ]
}