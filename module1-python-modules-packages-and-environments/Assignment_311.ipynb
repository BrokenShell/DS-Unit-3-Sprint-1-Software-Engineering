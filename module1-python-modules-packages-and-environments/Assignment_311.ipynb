{
  "nbformat": 4,
  "nbformat_minor": 0,
  "metadata": {
    "colab": {
      "name": "Assignment_311.ipynb",
      "provenance": [],
      "collapsed_sections": [],
      "authorship_tag": "ABX9TyM9e6VWZhuCsue/3Fxxf8n9",
      "include_colab_link": true
    },
    "kernelspec": {
      "name": "python3",
      "display_name": "Python 3"
    }
  },
  "cells": [
    {
      "cell_type": "markdown",
      "metadata": {
        "id": "view-in-github",
        "colab_type": "text"
      },
      "source": [
        "<a href=\"https://colab.research.google.com/github/BrokenShell/DS-Unit-3-Sprint-1-Software-Engineering/blob/master/module1-python-modules-packages-and-environments/Assignment_311.ipynb\" target=\"_parent\"><img src=\"https://colab.research.google.com/assets/colab-badge.svg\" alt=\"Open In Colab\"/></a>"
      ]
    },
    {
      "cell_type": "markdown",
      "metadata": {
        "id": "bEKqs0Dl74Tw",
        "colab_type": "text"
      },
      "source": [
        "# Data Science Assignment\n",
        "## Unit 3, Sprint 1, Module 1"
      ]
    },
    {
      "cell_type": "markdown",
      "metadata": {
        "id": "iu8JlUVo8B7J",
        "colab_type": "text"
      },
      "source": [
        "- [x] Local IDE: Pycharm\n",
        "- [x] Virtual Environment: venv\n",
        "- [x] PyPi Account: [pypi.org/user/Broken/](https://pypi.org/user/Broken/)\n",
        "- [x] Custom Helper Function Library: [pypi.org/project/LambdaData/](https://pypi.org/project/LambdaData/)"
      ]
    },
    {
      "cell_type": "markdown",
      "metadata": {
        "id": "oeC-U6euCRG8",
        "colab_type": "text"
      },
      "source": [
        "### Installer"
      ]
    },
    {
      "cell_type": "code",
      "metadata": {
        "id": "czcT7sa673cx",
        "colab_type": "code",
        "colab": {}
      },
      "source": [
        "!pip install LambdaData"
      ],
      "execution_count": 0,
      "outputs": []
    },
    {
      "cell_type": "markdown",
      "metadata": {
        "id": "uybeJYhoOhfg",
        "colab_type": "text"
      },
      "source": [
        "### Examples"
      ]
    },
    {
      "cell_type": "code",
      "metadata": {
        "id": "8WTZ9q8PrUs-",
        "colab_type": "code",
        "outputId": "4bc84b15-32ef-44fb-d5ea-1582dd471301",
        "colab": {
          "base_uri": "https://localhost:8080/",
          "height": 306
        }
      },
      "source": [
        "from LambdaData import partial_sum\n",
        "help(partial_sum)"
      ],
      "execution_count": 0,
      "outputs": [
        {
          "output_type": "stream",
          "text": [
            "Help on built-in function partial_sum in module LambdaData:\n",
            "\n",
            "partial_sum(...)\n",
            "    partial_sum(array: Iterable) -> Iterator\n",
            "    Partial Sum\n",
            "       Calculates the sum of adjacent pairs.\n",
            "       This is the opposite of Adjacent Difference.\n",
            "    \n",
            "       DocTests:\n",
            "       >>> list(partial_sum(range(1, 10)))\n",
            "       [1, 3, 6, 10, 15, 21, 28, 36, 45]\n",
            "       >>> list(partial_sum([1, 1, 1, 1, 1, 1, 1, 1, 1, 1]))\n",
            "       [1, 2, 3, 4, 5, 6, 7, 8, 9, 10]\n",
            "    \n",
            "       @param array: Iterable of Numeric Values.\n",
            "       @return: Iterator of adjacent sums.\n",
            "\n"
          ],
          "name": "stdout"
        }
      ]
    },
    {
      "cell_type": "code",
      "metadata": {
        "id": "vE0KTTH5mDJC",
        "colab_type": "code",
        "outputId": "2e8028a7-8cb9-421a-ea0b-98bc4732d222",
        "colab": {
          "base_uri": "https://localhost:8080/",
          "height": 85
        }
      },
      "source": [
        "print('Calculating Partial Sums\\n')\n",
        "arr = range(1, 10)\n",
        "print('Start Array:\\t', list(arr))\n",
        "print('Partial Sums:\\t', list(partial_sum(range(1, 10))))"
      ],
      "execution_count": 0,
      "outputs": [
        {
          "output_type": "stream",
          "text": [
            "Calculating Partial Sums\n",
            "\n",
            "Start Array:\t [1, 2, 3, 4, 5, 6, 7, 8, 9]\n",
            "Partial Sums:\t [1, 3, 6, 10, 15, 21, 28, 36, 45]\n"
          ],
          "name": "stdout"
        }
      ]
    },
    {
      "cell_type": "code",
      "metadata": {
        "id": "IIFUnge_rc0I",
        "colab_type": "code",
        "outputId": "8d0a2121-b1a6-46d8-d7e4-3dedf69e73d5",
        "colab": {
          "base_uri": "https://localhost:8080/",
          "height": 357
        }
      },
      "source": [
        "from LambdaData import adjacent_difference\n",
        "help(adjacent_difference)"
      ],
      "execution_count": 0,
      "outputs": [
        {
          "output_type": "stream",
          "text": [
            "Help on built-in function adjacent_difference in module LambdaData:\n",
            "\n",
            "adjacent_difference(...)\n",
            "    adjacent_difference(array: Iterable) -> Iterator\n",
            "    Adjacent Difference\n",
            "       Calculates the difference between adjacent pairs.\n",
            "       This is the opposite of Partial Sum.\n",
            "       The first iteration compares with zero for proper offset.\n",
            "    \n",
            "       DocTests:\n",
            "       >>> list(adjacent_difference(range(1, 10)))\n",
            "       [1, 1, 1, 1, 1, 1, 1, 1, 1]\n",
            "       >>> list(adjacent_difference(partial_sum(range(1, 10))))\n",
            "       [1, 2, 3, 4, 5, 6, 7, 8, 9]\n",
            "       >>> list(adjacent_difference(partial_sum(range(-10, 11, 2))))\n",
            "       [-10, -8, -6, -4, -2, 0, 2, 4, 6, 8, 10]\n",
            "    \n",
            "       @param array: Iterable of Numeric Values.\n",
            "       @return: Iterator of adjacent differences.\n",
            "\n"
          ],
          "name": "stdout"
        }
      ]
    },
    {
      "cell_type": "code",
      "metadata": {
        "id": "Zh3dsvTJmhp4",
        "colab_type": "code",
        "outputId": "9cc4778e-d3ce-4957-b0e6-25a641703121",
        "colab": {
          "base_uri": "https://localhost:8080/",
          "height": 85
        }
      },
      "source": [
        "print('Calculating Adjacent Differences\\n')\n",
        "arr = range(1, 10)\n",
        "print('Start Array:\\t', list(arr))\n",
        "print('Adjacent Diff:\\t', list(adjacent_difference(arr)))"
      ],
      "execution_count": 0,
      "outputs": [
        {
          "output_type": "stream",
          "text": [
            "Calculating Adjacent Differences\n",
            "\n",
            "Start Array:\t [1, 2, 3, 4, 5, 6, 7, 8, 9]\n",
            "Adjacent Diff:\t [1, 1, 1, 1, 1, 1, 1, 1, 1]\n"
          ],
          "name": "stdout"
        }
      ]
    },
    {
      "cell_type": "code",
      "metadata": {
        "id": "bpGMvmxzrmLv",
        "colab_type": "code",
        "outputId": "f15cad1c-ce70-4498-9c81-7973810de69c",
        "colab": {
          "base_uri": "https://localhost:8080/",
          "height": 748
        }
      },
      "source": [
        "from LambdaData import partition, is_even\n",
        "help(partition)\n",
        "help(is_even)"
      ],
      "execution_count": 0,
      "outputs": [
        {
          "output_type": "stream",
          "text": [
            "Help on built-in function partition in module LambdaData:\n",
            "\n",
            "partition(...)\n",
            "    partition(array: Iterable, predicate: Callable) -> Iterator\n",
            "    Stable Partition\n",
            "       Arranges all the elements of a group such that any that return true\n",
            "           when passed to the predicate will be at the front, and the rest will be\n",
            "           at the back. The size of the output iterator will be the same as the\n",
            "           size of the input iterable.\n",
            "    \n",
            "       DocTests:\n",
            "       >>> list(partition(range(1, 10), is_even))\n",
            "       [2, 4, 6, 8, 1, 3, 5, 7, 9]\n",
            "       >>> list(partition(range(1, 10), is_odd))\n",
            "       [1, 3, 5, 7, 9, 2, 4, 6, 8]\n",
            "    \n",
            "       @param array: Iterable of values to be partitioned.\n",
            "       @param predicate: Unary functor. F(x) -> bool\n",
            "       @return: Partitioned Iterator.\n",
            "\n",
            "Help on built-in function is_even in module LambdaData:\n",
            "\n",
            "is_even(...)\n",
            "    is_even(n)\n",
            "    Is Even\n",
            "       Checks a number to see if it is even.\n",
            "           Test Helper Function\n",
            "    \n",
            "       DocTests:\n",
            "       >>> is_even(1)\n",
            "       False\n",
            "       >>> is_even(2)\n",
            "       True\n",
            "       >>> is_even(3)\n",
            "       False\n",
            "       >>> is_even(42)\n",
            "       True\n",
            "       >>> is_even(69)\n",
            "       False\n",
            "    \n",
            "       @param n: Number to be checked\n",
            "       @return: Boolean\n",
            "\n"
          ],
          "name": "stdout"
        }
      ]
    },
    {
      "cell_type": "code",
      "metadata": {
        "id": "YLfojVAomtD-",
        "colab_type": "code",
        "outputId": "5cf04d7a-a8b0-4145-9dc6-69f928485f6b",
        "colab": {
          "base_uri": "https://localhost:8080/",
          "height": 85
        }
      },
      "source": [
        "print('Moving even numbers to the front of the list\\n')\n",
        "arr = range(1, 10)\n",
        "print('Start Array:\\t', list(arr))\n",
        "print('Partitioned:\\t', list(partition(arr, is_even)))"
      ],
      "execution_count": 0,
      "outputs": [
        {
          "output_type": "stream",
          "text": [
            "Moving even numbers to the front of the list\n",
            "\n",
            "Start Array:\t [1, 2, 3, 4, 5, 6, 7, 8, 9]\n",
            "Partitioned:\t [2, 4, 6, 8, 1, 3, 5, 7, 9]\n"
          ],
          "name": "stdout"
        }
      ]
    },
    {
      "cell_type": "code",
      "metadata": {
        "id": "MUryK-Jjr6Iv",
        "colab_type": "code",
        "outputId": "29dc04d5-00e1-4580-a39e-f3689c791d5c",
        "colab": {
          "base_uri": "https://localhost:8080/",
          "height": 323
        }
      },
      "source": [
        "from LambdaData import transposed_sums\n",
        "help(transposed_sums)"
      ],
      "execution_count": 0,
      "outputs": [
        {
          "output_type": "stream",
          "text": [
            "Help on built-in function transposed_sums in module LambdaData:\n",
            "\n",
            "transposed_sums(...)\n",
            "    transposed_sums(*args: Iterable) -> Iterator\n",
            "    Transposed Sums - Column Sums\n",
            "       The size of the output iterator will be the same as\n",
            "           the smallest input iterator.\n",
            "    \n",
            "       DocTests:\n",
            "       >>> l1 = (0, 1, 2, 3)\n",
            "       >>> l2 = (8, 7, 6, 5)\n",
            "       >>> l3 = (1, 1, 1, 1)\n",
            "       >>> list(transposed_sums(l1, l2, l3))\n",
            "       [9, 9, 9, 9]\n",
            "    \n",
            "       @param args: Arbitrary number of Iterators of numeric values.\n",
            "       @return: Iterator of transposed sums aka column sums.\n",
            "\n"
          ],
          "name": "stdout"
        }
      ]
    },
    {
      "cell_type": "code",
      "metadata": {
        "id": "HPfQmh5DqtW_",
        "colab_type": "code",
        "outputId": "0eb6e621-b5b6-4e9f-c13c-74b7bd5eab9c",
        "colab": {
          "base_uri": "https://localhost:8080/",
          "height": 34
        }
      },
      "source": [
        "l1 = (0, 1, 2, 3)\n",
        "l2 = (8, 7, 6, 5)\n",
        "l3 = (1, 1, 1, 1)\n",
        "list(transposed_sums(l1, l2, l3))"
      ],
      "execution_count": 0,
      "outputs": [
        {
          "output_type": "execute_result",
          "data": {
            "text/plain": [
              "[9, 9, 9, 9]"
            ]
          },
          "metadata": {
            "tags": []
          },
          "execution_count": 54
        }
      ]
    },
    {
      "cell_type": "code",
      "metadata": {
        "id": "0P3SsVX4Bqcz",
        "colab_type": "code",
        "colab": {}
      },
      "source": [
        ""
      ],
      "execution_count": 0,
      "outputs": []
    }
  ]
}